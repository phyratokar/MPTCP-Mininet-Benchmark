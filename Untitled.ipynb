{
 "cells": [
  {
   "cell_type": "code",
   "execution_count": 33,
   "metadata": {},
   "outputs": [
    {
     "name": "stdout",
     "output_type": "stream",
     "text": [
      "1560433371.7664309\n",
      "True\n",
      "1559737624.5202484\n",
      "False\n"
     ]
    }
   ],
   "source": [
    "import os\n",
    "import time\n",
    "\n",
    "def is_transcoding(file_path):\n",
    "    # transcodelog_path = get_tag_file_path(file_path, 'transcodelog')\n",
    "    if os.path.isfile(file_path):\n",
    "        last_change = os.path.getmtime(file_path)\n",
    "        print(last_change)\n",
    "        if time.time() - last_change > 36000: # Check if file was modified in last 10 hours > detect program crashes\n",
    "            return False\n",
    "        else:\n",
    "            return True\n",
    "    else:\n",
    "        return False\n",
    "\n",
    "    \n",
    "print(is_transcoding('test.txt'))\n",
    "print(is_transcoding('olia-MPvsSP-rcv2.txt'))"
   ]
  },
  {
   "cell_type": "code",
   "execution_count": 1,
   "metadata": {},
   "outputs": [
    {
     "name": "stdout",
     "output_type": "stream",
     "text": [
      "Movies: 98\t Transcoded: 16 => \t0.16%\n",
      "TV: 2175\t Transcoded: 0 => \t0.0%\n"
     ]
    }
   ],
   "source": [
    "import os\n",
    "\n",
    "def is_transcoded(file_name):\n",
    "    file_transcoded = file_name.rpartition('.')[0] + '.istranscoded'\n",
    "    return os.path.isfile(file_transcoded)\n",
    "\n",
    "def get_video_file_names(media_folder, category='movies', print_no_video_folders=False):\n",
    "    VIDEO = ('.avi', '.m1v', '.mov', '.movie', '.mp4', '.mpa', '.mpe', '.mpeg', '.mpg', '.qt', '.webm', '.mkv', '.m2ts', 'wmv')\n",
    "    matches = []\n",
    "    for root, dirnames, filenames in os.walk(media_folder + '/' + category):\n",
    "        movie_files = [fn for fn in filenames if fn.lower().endswith(VIDEO)]\n",
    "        if len(movie_files) < 1 and print_no_video_folders:\n",
    "            print(filenames)\n",
    "            print(movie_files)\n",
    "            print('\\n')\n",
    "        for filename in movie_files:\n",
    "            matches.append(os.path.join(root, filename))\n",
    "    return matches\n",
    "\n",
    "def percentage_transcoded():\n",
    "    base_path = '/run/user/1000/gvfs/smb-share:server=192.168.0.3,share=media'\n",
    "    \n",
    "    movies = get_video_file_names(base_path, 'movies')\n",
    "    transcoded_movies = list(filter(is_transcoded, movies))\n",
    "    print('Movies: {}\\t Transcoded: {} => \\t{:.2}%'\n",
    "          .format(len(movies), len(transcoded_movies), len(transcoded_movies) / len(movies)))\n",
    "    \n",
    "    series = get_video_file_names(base_path, 'tv')\n",
    "    transcoded_series = list(filter(is_transcoded, series))\n",
    "    print('TV: {}\\t Transcoded: {} => \\t{:.2}%'\n",
    "          .format(len(series), len(transcoded_series), len(transcoded_series) / len(series)))\n",
    "\n",
    "\n",
    "percentage_transcoded()"
   ]
  }
 ],
 "metadata": {
  "kernelspec": {
   "display_name": "Python 3",
   "language": "python",
   "name": "python3"
  },
  "language_info": {
   "codemirror_mode": {
    "name": "ipython",
    "version": 3
   },
   "file_extension": ".py",
   "mimetype": "text/x-python",
   "name": "python",
   "nbconvert_exporter": "python",
   "pygments_lexer": "ipython3",
   "version": "3.6.8"
  }
 },
 "nbformat": 4,
 "nbformat_minor": 2
}
