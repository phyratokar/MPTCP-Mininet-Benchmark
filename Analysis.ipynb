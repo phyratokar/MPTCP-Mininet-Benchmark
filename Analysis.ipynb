{
 "cells": [
  {
   "cell_type": "markdown",
   "metadata": {},
   "source": [
    "Old Script to analyze data, kept for reference, not working."
   ]
  },
  {
   "cell_type": "code",
   "execution_count": null,
   "metadata": {},
   "outputs": [],
   "source": [
    "import os\n",
    "import pandas as pd\n",
    "import numpy as np\n",
    "from scipy import stats\n",
    "import matplotlib.pyplot as plt\n",
    "\n",
    "from IPython.display import display, HTML\n",
    "\n",
    "def read_flow(sender_file_name, receiver_file_name):\n",
    "    s = pd.read_csv(sender_file_name, sep='\\t')\n",
    "    r = pd.read_csv(receiver_file_name, sep='\\t')\n",
    "    # print(sender_file_name)\n",
    "    df = pd.merge(s, r, how='outer', on='pkt_id')\n",
    "    df['latency [s]'] = df['rcv_t [s]'] - df['snd_t [s]']\n",
    "    df['latency [ms]'] = (df['rcv_t [s]'] - df['snd_t [s]']) * 1000\n",
    "    df['sec'] = df['rcv_t [s]'] - df.at[0, 'snd_t [s]']\n",
    "    df['disk_sec'] = df['sec'].apply(np.floor)\n",
    "    df['disk_msec'] = df['sec'].apply(lambda x: np.floor(x * 1000))\n",
    "    return df\n",
    "\n",
    "def tp_array(df, bucket_size_ms=100):\n",
    "    m = int(df['disk_msec'].max() / bucket_size_ms)\n",
    "    byt, borders, _ = stats.binned_statistic(df['disk_msec'], df['payload [bytes]'], 'sum', bins=[i*bucket_size_ms for i in range(m)])\n",
    "    ndf = pd.DataFrame({'msec': borders[:-1], 'tp [Mbps]': byt * 0.008 / bucket_size_ms})\n",
    "    return ndf\n",
    "\n",
    "def mean_tp(df, cutoff_s=2):\n",
    "    latest_time = df['disk_msec'].max()\n",
    "    df = tp_array(df)\n",
    "    df = df[(df['msec'] >= cutoff_s*1e3) & (df['msec'] < latest_time - cutoff_s*1e3)]\n",
    "    return df['tp [Mbps]'].mean()\n",
    "\n",
    "def mean_latency(df, cutoff_s=2):\n",
    "    latest_time = df['disk_msec'].max()\n",
    "    df = df[(df['disk_msec'] > cutoff_s * 1000) & (df['disk_msec'] < latest_time - cutoff_s * 1000)]\n",
    "    return df['latency [ms]'].mean()\n",
    "\n",
    "\n",
    "topologies = ['MPflow', 'MPflow_lpkt','MPvsSP', 'MPvsSP_lpkt']\n",
    "congestioncontr = ['olia', 'balia', 'wvegas']"
   ]
  },
  {
   "cell_type": "code",
   "execution_count": null,
   "metadata": {
    "scrolled": true
   },
   "outputs": [],
   "source": [
    "topo_indx = 0\n",
    "\n",
    "# {cc}-{topo}-{rcv/snd}{hostID}.txt - 'balia-MPflow-snd1.txt'\n",
    "file_name = '{}-{}-{}{}.txt'\n",
    "\n",
    "\n",
    "df_olia = read_flow(file_name.format(congestioncontr[0], topologies[topo_indx], 'snd', 1),\n",
    "                    file_name.format(congestioncontr[0], topologies[topo_indx], 'rcv', 2))\n",
    "\n",
    "df_balia = read_flow(file_name.format(congestioncontr[1], topologies[topo_indx], 'snd', 1),\n",
    "                     file_name.format(congestioncontr[1], topologies[topo_indx], 'rcv', 2))\n",
    "\n",
    "df_wvegas = read_flow(file_name.format(congestioncontr[2], topologies[topo_indx], 'snd', 1),\n",
    "                      file_name.format(congestioncontr[2], topologies[topo_indx], 'rcv', 2))\n",
    "df_olia"
   ]
  },
  {
   "cell_type": "code",
   "execution_count": null,
   "metadata": {},
   "outputs": [],
   "source": [
    "print('Olia goodput:\\t{:.2f}Mbps\\tLatency:\\t{:.2f}msec'.format(mean_tp(df_olia), mean_latency(df_olia)))\n",
    "print('Balia goodput:\\t{:.2f}Mbps\\tLatency:\\t{:.2f}msec'.format(mean_tp(df_balia), mean_latency(df_balia)))\n",
    "print('wVegas goodput:\\t{:.2f}Mbps\\tLatency:\\t{:.2f}msec'.format(mean_tp(df_wvegas), mean_latency(df_wvegas)))"
   ]
  },
  {
   "cell_type": "code",
   "execution_count": null,
   "metadata": {},
   "outputs": [],
   "source": [
    "# df_olia['latency [ms]'].max()\n",
    "p_olia = df_olia['latency [ms]'].plot.kde(ind=np.linspace(0, 50, 50), legend=True)\n",
    "\n",
    "p_balia = df_balia['latency [ms]'].plot.kde(ind=np.linspace(0, 50, 50), legend=True)\n",
    "\n",
    "p_wvegas = df_wvegas['latency [ms]'].plot.kde(ind=np.linspace(0, 50, 50), legend=True)\n",
    "_ = p_wvegas.set_xlabel('latency [ms]')\n",
    "_ = p_wvegas.legend(['olia', 'balia', 'wvegas'])"
   ]
  },
  {
   "cell_type": "code",
   "execution_count": null,
   "metadata": {},
   "outputs": [],
   "source": [
    "w = 200\n",
    "# group in 1 msec buckets and sum payloads, effectively calculating goodput in bytes/msec\n",
    "# * 0.008 since bytes/msec -> Mbps\n",
    "grouped_o = df_olia.groupby(['disk_msec'])['payload [bytes]'].sum() * 0.008\n",
    "grouped_w = df_wvegas.groupby(['disk_msec'])['payload [bytes]'].sum() * 0.008\n",
    "grouped_b = df_balia.groupby(['disk_msec'])['payload [bytes]'].sum() * 0.008\n",
    "# print(grouped)\n",
    "grouped_o.rolling(window=w).mean().plot(legend=True)\n",
    "grouped_b.rolling(window=w).mean().plot(legend=True)\n",
    "p = grouped_w.rolling(window=w).mean().plot(legend=True)\n",
    "p.set_ylabel('Mbps')\n",
    "p.legend(['olia', 'balia', 'wvegas'])"
   ]
  },
  {
   "cell_type": "markdown",
   "metadata": {},
   "source": [
    "# MPvsSP"
   ]
  },
  {
   "cell_type": "code",
   "execution_count": null,
   "metadata": {},
   "outputs": [],
   "source": [
    "topo_indx = 3\n",
    "\n",
    "df_olia1 = read_flow(file_name.format(congestioncontr[0], topologies[topo_indx], 'snd', 1),\n",
    "                    file_name.format(congestioncontr[0], topologies[topo_indx], 'rcv', 2))\n",
    "df_olia2 = read_flow(file_name.format(congestioncontr[0], topologies[topo_indx], 'snd', 3),\n",
    "                    file_name.format(congestioncontr[0], topologies[topo_indx], 'rcv', 4))\n",
    "\n",
    "df_balia1 = read_flow(file_name.format(congestioncontr[1], topologies[topo_indx], 'snd', 1),\n",
    "                     file_name.format(congestioncontr[1], topologies[topo_indx], 'rcv', 2))\n",
    "df_balia2 = read_flow(file_name.format(congestioncontr[1], topologies[topo_indx], 'snd', 3),\n",
    "                     file_name.format(congestioncontr[1], topologies[topo_indx], 'rcv', 4))\n",
    "\n",
    "df_wvegas1 = read_flow(file_name.format(congestioncontr[2], topologies[topo_indx], 'snd', 1),\n",
    "                      file_name.format(congestioncontr[2], topologies[topo_indx], 'rcv', 2))\n",
    "df_wvegas2 = read_flow(file_name.format(congestioncontr[2], topologies[topo_indx], 'snd', 3),\n",
    "                      file_name.format(congestioncontr[2], topologies[topo_indx], 'rcv', 4))\n",
    "\n",
    "print('Flow')\n",
    "print('1\\tOlia goodput:\\t{:.2f}Mbps\\tAvg. Latency:\\t{:.2f}msec'.format(mean_tp(df_olia1), mean_latency(df_olia1)))\n",
    "print('2\\tOlia goodput:\\t{:.2f}Mbps\\tAvg. Latency:\\t{:.2f}msec'.format(mean_tp(df_olia2), mean_latency(df_olia2)))\n",
    "print()\n",
    "print('1\\tBalia goodput:\\t{:.2f}Mbps\\tAvg. Latency:\\t{:.2f}msec'.format(mean_tp(df_balia1), mean_latency(df_balia1)))\n",
    "print('2\\tBalia goodput:\\t{:.2f}Mbps\\tAvg. Latency:\\t{:.2f}msec'.format(mean_tp(df_balia2), mean_latency(df_balia2)))\n",
    "print()\n",
    "print('1\\twVegas goodput:\\t{:.2f}Mbps\\tAvg. Latency:\\t{:.2f}msec'.format(mean_tp(df_wvegas1), mean_latency(df_wvegas1)))\n",
    "print('2\\twVegas goodput:\\t{:.2f}Mbps\\tAvg. Latency:\\t{:.2f}msec'.format(mean_tp(df_wvegas2), mean_latency(df_wvegas2)))\n",
    "\n",
    "df_olia1['payload [bytes]'].sum() * 8 / 30 / 1000000\n",
    "\n",
    "# df = df_olia1[(df_olia1['disk_msec'] > 2 * 1000) & (df_olia1['disk_msec'] < 30000 - 2* 1000)]\n",
    "# df.groupby(['disk_msec'])['payload [bytes]'].sum() * 0.008\n",
    "# should count 0 events!!!"
   ]
  },
  {
   "cell_type": "code",
   "execution_count": null,
   "metadata": {},
   "outputs": [],
   "source": [
    "   \n",
    "df = tp_array(df_olia1)\n",
    "df = df[(df['msec'] >= 2000) & (df['msec'] < 28000)]\n",
    "df\n",
    "# stats.binned_statistic(df_olia1['disk_msec'], df_olia1['payload [bytes]'], 'sum', bins=range(3000))"
   ]
  },
  {
   "cell_type": "code",
   "execution_count": null,
   "metadata": {},
   "outputs": [],
   "source": [
    "# df_olia['latency [ms]'].max()\n",
    "fig, axes = plt.subplots(nrows=3, ncols=2, figsize=(15, 7.5))\n",
    "\n",
    "p_olia1 = df_olia1['latency [ms]'].plot.kde(ind=np.linspace(0, 100, 50), legend=True, ax=axes[0,0])\n",
    "p_olia2 = df_olia2['latency [ms]'].plot.kde(ind=np.linspace(0, 100, 50), legend=True, ax=axes[0,0])\n",
    "_ = p_olia2.set_xlabel('latency [ms]')\n",
    "_ = p_olia2.legend(['mptcp olia', '(mp)tcp olia'])\n",
    "\n",
    "p_balia1 = df_balia1['latency [ms]'].plot.kde(ind=np.linspace(0, 100, 50), legend=True, ax=axes[1,0])\n",
    "p_balia2 = df_balia2['latency [ms]'].plot.kde(ind=np.linspace(0, 100, 50), legend=True, ax=axes[1,0])\n",
    "_ = p_balia1.set_xlabel('latency [ms]')\n",
    "_ = p_balia1.legend(['mptcp balia', '(mp)tcp balia'])\n",
    "\n",
    "p_olia1 = df_wvegas1['latency [ms]'].plot.kde(ind=np.linspace(0, 100, 50), legend=True, ax=axes[2,0])\n",
    "p_olia2 = df_wvegas2['latency [ms]'].plot.kde(ind=np.linspace(0, 100, 50), legend=True, ax=axes[2,0])\n",
    "_ = p_olia2.set_xlabel('latency [ms]')\n",
    "_ = p_olia2.legend(['mptcp wvegas', '(mp)tcp wvegas'])\n"
   ]
  },
  {
   "cell_type": "code",
   "execution_count": null,
   "metadata": {},
   "outputs": [],
   "source": [
    "grouped_o1 = df_olia1.groupby(['disk_msec'])['payload [bytes]'].sum() * 0.008\n",
    "grouped_o2 = df_olia2.groupby(['disk_msec'])['payload [bytes]'].sum() * 0.008\n",
    "\n",
    "grouped_w1 = df_wvegas1.groupby(['disk_msec'])['payload [bytes]'].sum() * 0.008\n",
    "grouped_w2 = df_wvegas2.groupby(['disk_msec'])['payload [bytes]'].sum() * 0.008\n",
    "\n",
    "grouped_b1 = df_balia1.groupby(['disk_msec'])['payload [bytes]'].sum() * 0.008\n",
    "grouped_b2 = df_balia2.groupby(['disk_msec'])['payload [bytes]'].sum() * 0.008\n",
    "\n",
    "fig, axes = plt.subplots(nrows=2, ncols=2, figsize=(15, 7.5))\n",
    "w = 50\n",
    "\n",
    "# print(grouped)\n",
    "grouped_o1.rolling(window=w).mean().plot(legend=True, ax=axes[0,0])\n",
    "p = grouped_o2.rolling(window=w).mean().plot(legend=True, ax=axes[0,0])\n",
    "p.set_ylabel('Mbps')\n",
    "p.set_ylim(bottom=0)\n",
    "p.legend(['mptcp', '(mp)tcp'])\n",
    "\n",
    "grouped_b1.rolling(window=w).mean().plot(legend=True, ax=axes[0,1])\n",
    "p = grouped_b2.rolling(window=w).mean().plot(legend=True, ax=axes[0,1])\n",
    "p.set_ylabel('Mbps')\n",
    "p.set_ylim(bottom=0)\n",
    "p.legend(['mptcp', '(mp)tcp'])\n",
    "\n",
    "grouped_w1.rolling(window=w).mean().plot(legend=True, ax=axes[1,0])\n",
    "p = grouped_w2.rolling(window=w).mean().plot(legend=True, ax=axes[1,0])\n",
    "p.set_ylabel('Mbps')\n",
    "p.set_ylim(bottom=0)\n",
    "p.legend(['mptcp', '(mp)tcp'])"
   ]
  },
  {
   "cell_type": "code",
   "execution_count": null,
   "metadata": {},
   "outputs": [],
   "source": [
    "df1[:1000].plot(x=0, y='latency [s]')"
   ]
  },
  {
   "cell_type": "code",
   "execution_count": null,
   "metadata": {},
   "outputs": [],
   "source": [
    "df1['latency [s]'].plot.kde(ind=np.linspace(0, df1['latency [s]'].max()))"
   ]
  },
  {
   "cell_type": "code",
   "execution_count": null,
   "metadata": {},
   "outputs": [],
   "source": [
    "df1['disk_sec'] = df1['sec'].apply(lambda x: np.floor(x * 10) / 10)\n",
    "# group in 0.1 sec buckets and sum payloads, effectively calculating goodput\n",
    "(df1.groupby(['disk_sec'])['payload [bytes]'].sum() * 10).plot()"
   ]
  }
 ],
 "metadata": {
  "kernelspec": {
   "display_name": "Python 3",
   "language": "python",
   "name": "python3"
  },
  "language_info": {
   "codemirror_mode": {
    "name": "ipython",
    "version": 3
   },
   "file_extension": ".py",
   "mimetype": "text/x-python",
   "name": "python",
   "nbconvert_exporter": "python",
   "pygments_lexer": "ipython3",
   "version": "3.7.3"
  }
 },
 "nbformat": 4,
 "nbformat_minor": 2
}
