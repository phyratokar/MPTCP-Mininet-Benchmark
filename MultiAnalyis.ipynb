{
 "cells": [
  {
   "cell_type": "code",
   "execution_count": null,
   "metadata": {},
   "outputs": [],
   "source": [
    "import os\n",
    "import pandas as pd\n",
    "import numpy as np\n",
    "from scipy import stats\n",
    "import matplotlib.pyplot as plt\n",
    "\n",
    "from IPython.display import display, HTML\n",
    "\n",
    "def read_flow(sender_file_name, receiver_file_name):\n",
    "    s = pd.read_csv(sender_file_name, sep='\\t')\n",
    "    r = pd.read_csv(receiver_file_name, sep='\\t')\n",
    "    # print(sender_file_name)\n",
    "    df = pd.merge(s, r, how='outer', on='pkt_id')\n",
    "    df['latency [s]'] = df['rcv_t [s]'] - df['snd_t [s]']\n",
    "    df['latency [ms]'] = (df['rcv_t [s]'] - df['snd_t [s]']) * 1000\n",
    "    df['sec'] = df['rcv_t [s]'] - df.at[0, 'snd_t [s]']\n",
    "    df['disk_sec'] = df['sec'].apply(np.floor)\n",
    "    df['disk_msec'] = df['sec'].apply(lambda x: np.floor(x * 1000))\n",
    "    return df\n",
    "\n",
    "def tp_array(df, bucket_size_ms=100):\n",
    "    m = int(df['disk_msec'].max() / bucket_size_ms)\n",
    "    byt, borders, _ = stats.binned_statistic(df['disk_msec'], df['payload [bytes]'], 'sum', bins=[i*bucket_size_ms for i in range(m)])\n",
    "    ndf = pd.DataFrame({'msec': borders[:-1], 'tp [Mbps]': byt * 0.008 / bucket_size_ms})\n",
    "    return ndf\n",
    "\n",
    "def mean_tp(df, cutoff_s=2):\n",
    "    latest_time = df['disk_msec'].max()\n",
    "    df = tp_array(df)\n",
    "    df = df[(df['msec'] >= cutoff_s*1e3) & (df['msec'] < latest_time - cutoff_s*1e3)]\n",
    "    return df['tp [Mbps]'].mean()\n",
    "\n",
    "def mean_latency(df, cutoff_s=2):\n",
    "    latest_time = df['disk_msec'].max()\n",
    "    df = df[(df['disk_msec'] > cutoff_s * 1000) & (df['disk_msec'] < latest_time - cutoff_s * 1000)]\n",
    "    return df['latency [ms]'].mean()\n",
    "\n",
    "\n",
    "topologies = ['mptcp-host-pair', 'MPflow_lpkt','MPvsSP', 'MPvsSP_lpkt']\n",
    "congestioncontr = ['lia', 'olia', 'balia', 'wvegas']"
   ]
  }
 ],
 "metadata": {
  "kernelspec": {
   "display_name": "Python 3",
   "language": "python",
   "name": "python3"
  },
  "language_info": {
   "codemirror_mode": {
    "name": "ipython",
    "version": 3
   },
   "file_extension": ".py",
   "mimetype": "text/x-python",
   "name": "python",
   "nbconvert_exporter": "python",
   "pygments_lexer": "ipython3",
   "version": "3.6.8"
  }
 },
 "nbformat": 4,
 "nbformat_minor": 2
}
